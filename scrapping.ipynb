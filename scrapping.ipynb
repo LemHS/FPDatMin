{
 "cells": [
  {
   "cell_type": "code",
   "execution_count": 1,
   "metadata": {},
   "outputs": [],
   "source": [
    "from selenium import webdriver\n",
    "from selenium.webdriver.common.by import By\n",
    "from selenium.webdriver.support.ui import WebDriverWait\n",
    "from selenium.webdriver.support import expected_conditions as EC\n",
    "import time\n",
    "import numpy as np\n",
    "import pandas as pd\n",
    "import requests\n",
    "import os\n",
    "import regex as re"
   ]
  },
  {
   "cell_type": "code",
   "execution_count": 3,
   "metadata": {},
   "outputs": [
    {
     "name": "stdout",
     "output_type": "stream",
     "text": [
      "len: 36, page: 1\n",
      "len: 72, page: 2\n",
      "len: 108, page: 3\n",
      "len: 144, page: 4\n",
      "len: 150, page: 5\n",
      "len: 156, page: 5\n",
      "len: 162, page: 5\n"
     ]
    }
   ],
   "source": [
    "page = [i for i in range(1, 5 + 1)]\n",
    "data = pd.DataFrame({\"link\": [], \"brand\": [], \"category\": [], \"image\": [], \"price\": []})\n",
    "category = \"comfort_shoes\"\n",
    "loop_count = 0\n",
    "\n",
    "while len(page) != 0 and loop_count < 3:\n",
    "    page1 = page\n",
    "    done = []\n",
    "    for i in page:\n",
    "        driver = webdriver.Firefox()\n",
    "        driver.get(f'https://www.zalora.co.id/c/men/sepatu/c-27?sort=price&dir=desc&categoryId=7520&page={i}')\n",
    "        element_present = EC.presence_of_element_located((By.XPATH, '//a[@data-test-id=\"productLink\"]'))\n",
    "        WebDriverWait(driver, 5).until(element_present)\n",
    "        link = driver.find_elements(By.XPATH, '//a[@data-test-id=\"productLink\"]')\n",
    "        link = [lin for lin in link if len(lin.find_elements(By.XPATH, './/span[@data-test-id=\"adLabel\"]')) == 0]\n",
    "        brand = [lin.find_element(By.XPATH, './/span[@data-test-id=\"productBrandName\"]').text for lin in link if lin.find_elements(By.XPATH, './/span[@data-test-id=\"productBrandName\"]')]\n",
    "        price = [lin.find_element(By.XPATH, './/div[@data-test-id=\"originalPrice\"]').text for lin in link if lin.find_elements(By.XPATH, './/div[@data-test-id=\"originalPrice\"]')]\n",
    "        image = [lin.find_element(By.XPATH, './/img').get_attribute(\"src\") for lin in link if lin.find_elements(By.XPATH, './/img')]\n",
    "        link = [i.get_attribute(\"href\") for i in link]\n",
    "        driver.close()\n",
    "        if len(set([len(link), len(brand), len(price), len(image)])) == 1:\n",
    "            data_i = pd.DataFrame({\"link\": link, \"brand\": brand, \"category\": category, \"image\": image, \"price\": price})\n",
    "            data = pd.concat([data, data_i])\n",
    "            if len(link) == 36:\n",
    "                done.append(i)\n",
    "        print(f\"len: {len(data)}, page: {i}\")\n",
    "\n",
    "    for i in done:\n",
    "        page.remove(i)\n",
    "    \n",
    "    if page1 == page:\n",
    "        loop_count += 1\n",
    "\n",
    "data = data.drop_duplicates()\n",
    "data = data.reset_index(drop=True)\n",
    "data.to_csv(f'men_{category}.csv', index=False)"
   ]
  },
  {
   "cell_type": "code",
   "execution_count": 2,
   "metadata": {},
   "outputs": [],
   "source": [
    "csvs = os.listdir('csv')"
   ]
  },
  {
   "cell_type": "code",
   "execution_count": 10,
   "metadata": {},
   "outputs": [
    {
     "data": {
      "text/plain": [
       "'men_boots'"
      ]
     },
     "execution_count": 10,
     "metadata": {},
     "output_type": "execute_result"
    }
   ],
   "source": [
    "csvs[0].replace('.csv', '')"
   ]
  },
  {
   "cell_type": "code",
   "execution_count": 4,
   "metadata": {},
   "outputs": [
    {
     "name": "stderr",
     "output_type": "stream",
     "text": [
      "<string>:3: SyntaxWarning: invalid escape sequence '\\{'\n",
      "<string>:4: SyntaxWarning: invalid escape sequence '\\{'\n",
      "<string>:7: SyntaxWarning: invalid escape sequence '\\{'\n",
      "<string>:10: SyntaxWarning: invalid escape sequence '\\{'\n",
      "<string>:10: SyntaxWarning: invalid escape sequence '\\{'\n",
      "<string>:18: SyntaxWarning: invalid escape sequence '\\{'\n",
      "<string>:18: SyntaxWarning: invalid escape sequence '\\{'\n",
      "<>:3: SyntaxWarning: invalid escape sequence '\\{'\n",
      "<>:4: SyntaxWarning: invalid escape sequence '\\{'\n",
      "<>:7: SyntaxWarning: invalid escape sequence '\\{'\n",
      "<>:10: SyntaxWarning: invalid escape sequence '\\{'\n",
      "<>:10: SyntaxWarning: invalid escape sequence '\\{'\n",
      "<>:18: SyntaxWarning: invalid escape sequence '\\{'\n",
      "<>:18: SyntaxWarning: invalid escape sequence '\\{'\n",
      "<string>:3: SyntaxWarning: invalid escape sequence '\\{'\n",
      "<string>:4: SyntaxWarning: invalid escape sequence '\\{'\n",
      "<string>:7: SyntaxWarning: invalid escape sequence '\\{'\n",
      "<string>:10: SyntaxWarning: invalid escape sequence '\\{'\n",
      "<string>:10: SyntaxWarning: invalid escape sequence '\\{'\n",
      "<string>:18: SyntaxWarning: invalid escape sequence '\\{'\n",
      "<string>:18: SyntaxWarning: invalid escape sequence '\\{'\n",
      "<>:3: SyntaxWarning: invalid escape sequence '\\{'\n",
      "<>:4: SyntaxWarning: invalid escape sequence '\\{'\n",
      "<>:7: SyntaxWarning: invalid escape sequence '\\{'\n",
      "<>:10: SyntaxWarning: invalid escape sequence '\\{'\n",
      "<>:10: SyntaxWarning: invalid escape sequence '\\{'\n",
      "<>:18: SyntaxWarning: invalid escape sequence '\\{'\n",
      "<>:18: SyntaxWarning: invalid escape sequence '\\{'\n",
      "C:\\Users\\horas\\AppData\\Local\\Temp\\ipykernel_10308\\64670134.py:3: SyntaxWarning: invalid escape sequence '\\{'\n",
      "  df = pd.read_csv(f'csv\\{csv}')\n",
      "C:\\Users\\horas\\AppData\\Local\\Temp\\ipykernel_10308\\64670134.py:4: SyntaxWarning: invalid escape sequence '\\{'\n",
      "  if os.path.exists(f\"image\\{category}\"):\n",
      "C:\\Users\\horas\\AppData\\Local\\Temp\\ipykernel_10308\\64670134.py:7: SyntaxWarning: invalid escape sequence '\\{'\n",
      "  os.mkdir(f\"image\\{category}\")\n",
      "C:\\Users\\horas\\AppData\\Local\\Temp\\ipykernel_10308\\64670134.py:10: SyntaxWarning: invalid escape sequence '\\{'\n",
      "  if os.path.exists(f\"image\\{category}\\{i}.png\"):\n",
      "C:\\Users\\horas\\AppData\\Local\\Temp\\ipykernel_10308\\64670134.py:10: SyntaxWarning: invalid escape sequence '\\{'\n",
      "  if os.path.exists(f\"image\\{category}\\{i}.png\"):\n",
      "C:\\Users\\horas\\AppData\\Local\\Temp\\ipykernel_10308\\64670134.py:18: SyntaxWarning: invalid escape sequence '\\{'\n",
      "  with open(f\"image\\{category}\\{i}.png\", \"wb\") as file:\n",
      "C:\\Users\\horas\\AppData\\Local\\Temp\\ipykernel_10308\\64670134.py:18: SyntaxWarning: invalid escape sequence '\\{'\n",
      "  with open(f\"image\\{category}\\{i}.png\", \"wb\") as file:\n"
     ]
    },
    {
     "name": "stdout",
     "output_type": "stream",
     "text": [
      "3269\n"
     ]
    }
   ],
   "source": [
    "for csv in csvs:\n",
    "    category = csv.replace('.csv', '')\n",
    "    df = pd.read_csv(f'csv\\{csv}')\n",
    "    if os.path.exists(f\"image\\{category}\"):\n",
    "        pass\n",
    "    else:\n",
    "        os.mkdir(f\"image\\{category}\")\n",
    "\n",
    "    for i in df.index:\n",
    "        if os.path.exists(f\"image\\{category}\\{i}.png\"):\n",
    "            pass\n",
    "        else:\n",
    "            print(i)\n",
    "            url = df.loc[i]['image']\n",
    "            headers = {'User-Agent': 'Mozilla/5.0'}\n",
    "            response = requests.get(url, headers=headers, timeout=30)\n",
    "            if response.status_code == 200:\n",
    "                with open(f\"image\\{category}\\{i}.png\", \"wb\") as file:\n",
    "                    file.write(response.content)"
   ]
  }
 ],
 "metadata": {
  "kernelspec": {
   "display_name": ".venv",
   "language": "python",
   "name": "python3"
  },
  "language_info": {
   "codemirror_mode": {
    "name": "ipython",
    "version": 3
   },
   "file_extension": ".py",
   "mimetype": "text/x-python",
   "name": "python",
   "nbconvert_exporter": "python",
   "pygments_lexer": "ipython3",
   "version": "3.12.6"
  }
 },
 "nbformat": 4,
 "nbformat_minor": 2
}
